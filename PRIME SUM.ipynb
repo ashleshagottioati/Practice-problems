{
 "cells": [
  {
   "cell_type": "code",
   "execution_count": 1,
   "id": "67d03cbe",
   "metadata": {},
   "outputs": [
    {
     "name": "stdout",
     "output_type": "stream",
     "text": [
      "B\n",
      "11Z\n"
     ]
    }
   ],
   "source": [
    "t = int(input())    #prime face\n",
    "\n",
    "def isPrime(k):\n",
    "\n",
    "    if(k==0 or k==1):\n",
    "\n",
    "        return 0\n",
    "\n",
    "    if(k==2 or k==3):\n",
    "\n",
    "        return 1\n",
    "\n",
    "    for i in range(2,int(k**0.5)+2):\n",
    "\n",
    "        if(k%i == 0):\n",
    "\n",
    "            return 0\n",
    "\n",
    "    return 1\n",
    "\n",
    "    \n",
    "\n",
    "def toBase(x,b):\n",
    "\n",
    "    n = x\n",
    "\n",
    "    s=''\n",
    "\n",
    "    ch=\"0123456789ABCDEFGHIJKLMNOPQRSTUVWXYZ\"\n",
    "\n",
    "    while n:\n",
    "\n",
    "        t=n//b\n",
    "\n",
    "        r=n%b\n",
    "\n",
    "        s = ch[r]+s\n",
    "\n",
    "        n = t\n",
    "\n",
    "    return s\n",
    "\n",
    "        \n",
    "\n",
    "\n",
    "\n",
    "for T in range(t):\n",
    "\n",
    "    ch=\"0123456789ABCDEFGHIJKLMNOPQRSTUVWXYZ\"\n",
    "\n",
    "    N,S=input().split()\n",
    "\n",
    "    base=ch.find(max(N))+1\n",
    "\n",
    "    mn=int(N,base)\n",
    "\n",
    "    sb=ch.find(max(S))+1\n",
    "\n",
    "    while 1:\n",
    "\n",
    "        if isPrime(mn) and S in toBase(mn,sb):\n",
    "\n",
    "            print(toBase(mn,sb))\n",
    "\n",
    "            break\n",
    "\n",
    "        mn+=1"
   ]
  }
 ],
 "metadata": {
  "kernelspec": {
   "display_name": "Python 3",
   "language": "python",
   "name": "python3"
  },
  "language_info": {
   "codemirror_mode": {
    "name": "ipython",
    "version": 3
   },
   "file_extension": ".py",
   "mimetype": "text/x-python",
   "name": "python",
   "nbconvert_exporter": "python",
   "pygments_lexer": "ipython3",
   "version": "3.10.11"
  }
 },
 "nbformat": 4,
 "nbformat_minor": 5
}
