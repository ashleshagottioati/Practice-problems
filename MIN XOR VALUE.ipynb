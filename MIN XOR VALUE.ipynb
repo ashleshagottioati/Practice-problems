{
 "cells": [
  {
   "cell_type": "code",
   "execution_count": 10,
   "id": "53ad6681",
   "metadata": {},
   "outputs": [
    {
     "name": "stdout",
     "output_type": "stream",
     "text": [
      "Minimum XOR value between any two elements is: 0\n"
     ]
    }
   ],
   "source": [
    "class Solution:\n",
    "    def findMinXor(self, A):\n",
    "        if len(A) < 2:\n",
    "            return None  # Not enough elements to compare\n",
    "\n",
    "        A.sort()\n",
    "        min_xor = float('inf')\n",
    "        for i in range(len(A) - 1):\n",
    "            xor_val = A[i] ^ A[i + 1]\n",
    "            if xor_val < min_xor:\n",
    "                min_xor = xor_val\n",
    "        return min_xor\n",
    "\n",
    "# Take input from the user\n",
    "input_str = input(\"Enter a list of integers separated by spaces: \")\n",
    "A = list(map(int, input_str.strip().split()))\n",
    "\n",
    "# Create a Solution object and call the method\n",
    "sol = Solution()\n",
    "result = sol.findMinXor(A)\n",
    "\n",
    "# Print the result\n",
    "if result is not None:\n",
    "    print(\"Minimum XOR value between any two elements is:\", result)\n",
    "else:\n",
    "    print(\"Please enter at least two integers to compute XOR.\")\n",
    "\n"
   ]
  }
 ],
 "metadata": {
  "kernelspec": {
   "display_name": "Python 3",
   "language": "python",
   "name": "python3"
  },
  "language_info": {
   "codemirror_mode": {
    "name": "ipython",
    "version": 3
   },
   "file_extension": ".py",
   "mimetype": "text/x-python",
   "name": "python",
   "nbconvert_exporter": "python",
   "pygments_lexer": "ipython3",
   "version": "3.10.11"
  }
 },
 "nbformat": 4,
 "nbformat_minor": 5
}
