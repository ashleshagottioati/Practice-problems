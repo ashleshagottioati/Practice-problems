{
 "cells": [
  {
   "cell_type": "code",
   "execution_count": 2,
   "id": "4201435a",
   "metadata": {},
   "outputs": [
    {
     "name": "stdout",
     "output_type": "stream",
     "text": [
      "6\n"
     ]
    }
   ],
   "source": [
    "from math import gcd\n",
    "\n",
    "def lcm(x,y):\n",
    "\n",
    "    return(int((x*y)/gcd(x,y)))\n",
    "\n",
    "T=int(input())\n",
    "\n",
    "while(T):\n",
    "\n",
    "    T=T-1\n",
    "\n",
    "    n=int(input())\n",
    "\n",
    "    m=list(map(int,input().split()))\n",
    "\n",
    "    t=1\n",
    "\n",
    "    for p in range(n):\n",
    "\n",
    "        c=0 \n",
    "\n",
    "        while(m[p]!=0):\n",
    "\n",
    "            h=p \n",
    "\n",
    "            p=m[p]-1\n",
    "\n",
    "            m[h]=0 \n",
    "\n",
    "            \n",
    "\n",
    "            c+=1\n",
    "\n",
    "        if(c!=0):\n",
    "\n",
    "            t=lcm(t,c) \n",
    "\n",
    "    print(int(t))\n"
   ]
  }
 ],
 "metadata": {
  "kernelspec": {
   "display_name": "Python 3",
   "language": "python",
   "name": "python3"
  },
  "language_info": {
   "codemirror_mode": {
    "name": "ipython",
    "version": 3
   },
   "file_extension": ".py",
   "mimetype": "text/x-python",
   "name": "python",
   "nbconvert_exporter": "python",
   "pygments_lexer": "ipython3",
   "version": "3.10.11"
  }
 },
 "nbformat": 4,
 "nbformat_minor": 5
}
